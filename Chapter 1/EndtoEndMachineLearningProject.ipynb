{
 "cells": [
  {
   "cell_type": "code",
   "execution_count": 1,
   "id": "1b9b62fa",
   "metadata": {},
   "outputs": [],
   "source": [
    "import sklearn\n",
    "import numpy as np\n",
    "import pandas as pd\n",
    "import sklearn.linear_model\n"
   ]
  },
  {
   "cell_type": "code",
   "execution_count": 8,
   "id": "e76a1343",
   "metadata": {},
   "outputs": [],
   "source": [
    "oced_bli = pd.read_csv(r\"G:\\Machine Learning\\Concept-Based-Machine-Learning\\data sets\\oecd_bli_2015.csv\",thousands=',')\n",
    "gdp_per_capita = pd.read_csv(r\"G:\\Machine Learning\\Concept-Based-Machine-Learning\\data sets\\gdp_per_capita.csv\",thousands=',',delimiter='\\t',encoding='latin1',na_values=\"n/a\")"
   ]
  },
  {
   "cell_type": "code",
   "execution_count": null,
   "id": "d4e363a8",
   "metadata": {},
   "outputs": [],
   "source": [
    "def prepare_country_stats(oecd_bli, gdp_per_capita):\n",
    "    oced_bli = oced_bli[oced_bli['INEQUALITY'] == 'TOT']\n",
    "    oced_bli = oced_bli.pivot(index=\"Country\",columns=\"Indicator\",values=\"Value\")\n",
    "    gdp_per_capita.rename(columns={\"2015\": \"GDP per capita\"}, inplace=True)\n",
    "    gdp_per_capita.set_index(\"Country\", inplace=True)\n",
    "    \n",
    "    "
   ]
  }
 ],
 "metadata": {
  "kernelspec": {
   "display_name": "base",
   "language": "python",
   "name": "python3"
  },
  "language_info": {
   "codemirror_mode": {
    "name": "ipython",
    "version": 3
   },
   "file_extension": ".py",
   "mimetype": "text/x-python",
   "name": "python",
   "nbconvert_exporter": "python",
   "pygments_lexer": "ipython3",
   "version": "3.12.7"
  }
 },
 "nbformat": 4,
 "nbformat_minor": 5
}
